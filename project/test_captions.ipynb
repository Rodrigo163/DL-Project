{
 "cells": [
  {
   "cell_type": "code",
   "execution_count": 1,
   "metadata": {},
   "outputs": [],
   "source": [
    "import pandas as pd\n",
    "df = pd.read_csv(\"data/Captiones.txt\", sep = \"\\t\")"
   ]
  },
  {
   "cell_type": "code",
   "execution_count": 7,
   "metadata": {},
   "outputs": [
    {
     "data": {
      "text/html": [
       "<div>\n",
       "<style scoped>\n",
       "    .dataframe tbody tr th:only-of-type {\n",
       "        vertical-align: middle;\n",
       "    }\n",
       "\n",
       "    .dataframe tbody tr th {\n",
       "        vertical-align: top;\n",
       "    }\n",
       "\n",
       "    .dataframe thead th {\n",
       "        text-align: right;\n",
       "    }\n",
       "</style>\n",
       "<table border=\"1\" class=\"dataframe\">\n",
       "  <thead>\n",
       "    <tr style=\"text-align: right;\">\n",
       "      <th></th>\n",
       "      <th>image</th>\n",
       "      <th>caption</th>\n",
       "    </tr>\n",
       "  </thead>\n",
       "  <tbody>\n",
       "    <tr>\n",
       "      <th>0</th>\n",
       "      <td>000000203564.jpg</td>\n",
       "      <td>A bicycle replica with a clock as the front wh...</td>\n",
       "    </tr>\n",
       "    <tr>\n",
       "      <th>1</th>\n",
       "      <td>000000322141.jpg</td>\n",
       "      <td>A room with blue walls and a white sink and door.</td>\n",
       "    </tr>\n",
       "    <tr>\n",
       "      <th>2</th>\n",
       "      <td>000000016977.jpg</td>\n",
       "      <td>A car that seems to be parked illegally behind...</td>\n",
       "    </tr>\n",
       "    <tr>\n",
       "      <th>3</th>\n",
       "      <td>000000106140.jpg</td>\n",
       "      <td>A large passenger airplane flying through the ...</td>\n",
       "    </tr>\n",
       "    <tr>\n",
       "      <th>4</th>\n",
       "      <td>000000106140.jpg</td>\n",
       "      <td>There is a GOL plane taking off in a partly cl...</td>\n",
       "    </tr>\n",
       "    <tr>\n",
       "      <th>...</th>\n",
       "      <td>...</td>\n",
       "      <td>...</td>\n",
       "    </tr>\n",
       "    <tr>\n",
       "      <th>591818</th>\n",
       "      <td>000000133071.jpg</td>\n",
       "      <td>a slice of bread is covered with a sour cream ...</td>\n",
       "    </tr>\n",
       "    <tr>\n",
       "      <th>591819</th>\n",
       "      <td>000000410182.jpg</td>\n",
       "      <td>A long plate hold some fries with some sliders...</td>\n",
       "    </tr>\n",
       "    <tr>\n",
       "      <th>591820</th>\n",
       "      <td>000000180285.jpg</td>\n",
       "      <td>Two women sit and pose with stuffed animals.</td>\n",
       "    </tr>\n",
       "    <tr>\n",
       "      <th>591821</th>\n",
       "      <td>000000133071.jpg</td>\n",
       "      <td>White Plate with a lot of guacamole and an ext...</td>\n",
       "    </tr>\n",
       "    <tr>\n",
       "      <th>591822</th>\n",
       "      <td>000000133071.jpg</td>\n",
       "      <td>A dinner plate has a lemon wedge garnishment.</td>\n",
       "    </tr>\n",
       "  </tbody>\n",
       "</table>\n",
       "<p>591823 rows × 2 columns</p>\n",
       "</div>"
      ],
      "text/plain": [
       "                   image                                            caption\n",
       "0       000000203564.jpg  A bicycle replica with a clock as the front wh...\n",
       "1       000000322141.jpg  A room with blue walls and a white sink and door.\n",
       "2       000000016977.jpg  A car that seems to be parked illegally behind...\n",
       "3       000000106140.jpg  A large passenger airplane flying through the ...\n",
       "4       000000106140.jpg  There is a GOL plane taking off in a partly cl...\n",
       "...                  ...                                                ...\n",
       "591818  000000133071.jpg  a slice of bread is covered with a sour cream ...\n",
       "591819  000000410182.jpg  A long plate hold some fries with some sliders...\n",
       "591820  000000180285.jpg       Two women sit and pose with stuffed animals.\n",
       "591821  000000133071.jpg  White Plate with a lot of guacamole and an ext...\n",
       "591822  000000133071.jpg      A dinner plate has a lemon wedge garnishment.\n",
       "\n",
       "[591823 rows x 2 columns]"
      ]
     },
     "execution_count": 7,
     "metadata": {},
     "output_type": "execute_result"
    }
   ],
   "source": [
    "df"
   ]
  },
  {
   "cell_type": "code",
   "execution_count": null,
   "metadata": {},
   "outputs": [],
   "source": []
  }
 ],
 "metadata": {
  "kernelspec": {
   "display_name": "Python 3",
   "language": "python",
   "name": "python3"
  },
  "language_info": {
   "codemirror_mode": {
    "name": "ipython",
    "version": 3
   },
   "file_extension": ".py",
   "mimetype": "text/x-python",
   "name": "python",
   "nbconvert_exporter": "python",
   "pygments_lexer": "ipython3",
   "version": "3.7.7"
  }
 },
 "nbformat": 4,
 "nbformat_minor": 4
}
